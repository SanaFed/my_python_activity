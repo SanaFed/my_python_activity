{
 "cells": [
  {
   "cell_type": "code",
   "execution_count": 1,
   "id": "999e2c87",
   "metadata": {},
   "outputs": [
    {
     "name": "stdout",
     "output_type": "stream",
     "text": [
      "My name is Oksana Fedorova\n",
      "The date is 14th September 2022\n"
     ]
    }
   ],
   "source": [
    "# this is my first line of code\n",
    "\n",
    "print(\"My name is Oksana Fedorova\")\n",
    "print(\"The date is 14th September 2022\")"
   ]
  },
  {
   "cell_type": "code",
   "execution_count": 2,
   "id": "dd92d1cf",
   "metadata": {},
   "outputs": [],
   "source": [
    "# Write a program to analyse real estate data\n",
    "\n",
    "a, b, c, d, e = 45000, 23400, 67000, 34600, 12900"
   ]
  },
  {
   "cell_type": "code",
   "execution_count": 3,
   "id": "a1861ce5",
   "metadata": {},
   "outputs": [
    {
     "name": "stdout",
     "output_type": "stream",
     "text": [
      "182900\n"
     ]
    }
   ],
   "source": [
    "# Total sales from December\n",
    "\n",
    "print(a + b + c + d + e)"
   ]
  },
  {
   "cell_type": "code",
   "execution_count": 4,
   "id": "0bb06ee7",
   "metadata": {},
   "outputs": [
    {
     "name": "stdout",
     "output_type": "stream",
     "text": [
      "36580.0\n"
     ]
    }
   ],
   "source": [
    "# Average sales price for December\n",
    "\n",
    "print((a + b + c + d + e)/5)"
   ]
  },
  {
   "cell_type": "code",
   "execution_count": 5,
   "id": "da083673",
   "metadata": {},
   "outputs": [
    {
     "name": "stdout",
     "output_type": "stream",
     "text": [
      "60500\n"
     ]
    }
   ],
   "source": [
    "# Property price for property C\n",
    "\n",
    "print(c - 6500)"
   ]
  }
 ],
 "metadata": {
  "kernelspec": {
   "display_name": "Python 3 (ipykernel)",
   "language": "python",
   "name": "python3"
  },
  "language_info": {
   "codemirror_mode": {
    "name": "ipython",
    "version": 3
   },
   "file_extension": ".py",
   "mimetype": "text/x-python",
   "name": "python",
   "nbconvert_exporter": "python",
   "pygments_lexer": "ipython3",
   "version": "3.9.12"
  }
 },
 "nbformat": 4,
 "nbformat_minor": 5
}
